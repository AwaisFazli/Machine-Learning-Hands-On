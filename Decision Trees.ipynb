{
 "cells": [
  {
   "cell_type": "code",
   "execution_count": 12,
   "id": "659efa6c",
   "metadata": {},
   "outputs": [],
   "source": [
    "from sklearn.datasets import load_iris\n",
    "from sklearn.tree import DecisionTreeClassifier\n",
    "from sklearn.tree import export_graphviz"
   ]
  },
  {
   "cell_type": "code",
   "execution_count": 4,
   "id": "3e7c5b06",
   "metadata": {},
   "outputs": [
    {
     "data": {
      "text/plain": [
       "dict_keys(['data', 'target', 'frame', 'target_names', 'DESCR', 'feature_names', 'filename'])"
      ]
     },
     "execution_count": 4,
     "metadata": {},
     "output_type": "execute_result"
    }
   ],
   "source": [
    "iris = load_iris()\n",
    "\n",
    "iris.keys()"
   ]
  },
  {
   "cell_type": "code",
   "execution_count": 10,
   "id": "1f5fdc1a",
   "metadata": {},
   "outputs": [],
   "source": [
    "X = iris.data[:,2:] #Only Retrieving Length and Width\n",
    "y = iris.target"
   ]
  },
  {
   "cell_type": "code",
   "execution_count": 11,
   "id": "0733689e",
   "metadata": {},
   "outputs": [
    {
     "data": {
      "text/plain": [
       "DecisionTreeClassifier(max_depth=2)"
      ]
     },
     "execution_count": 11,
     "metadata": {},
     "output_type": "execute_result"
    }
   ],
   "source": [
    "tree_clf = DecisionTreeClassifier(max_depth = 2)\n",
    "tree_clf.fit(X,y)"
   ]
  },
  {
   "cell_type": "markdown",
   "id": "ac3100ca",
   "metadata": {},
   "source": [
    "The maximum depth of the tree. If None, then nodes are expanded until all leaves are pure or until all leaves \n",
    "contain less than min_samples_split samples."
   ]
  },
  {
   "cell_type": "code",
   "execution_count": 13,
   "id": "3edb655c",
   "metadata": {},
   "outputs": [],
   "source": [
    "export_graphviz(\n",
    "    tree_clf,\n",
    "    out_file = \"Iris.dot\",\n",
    "    feature_names = iris.feature_names[2:],\n",
    "    class_names = iris.target_names,\n",
    "    rounded = True,\n",
    "    filled = True\n",
    ")"
   ]
  },
  {
   "cell_type": "markdown",
   "id": "d37a3354",
   "metadata": {},
   "source": [
    "You can visualize the trained Decision Tree by first using the export_graphviz()\n",
    "method to output a graph definition file called iris_tree.dot\n",
    "Then you can convert this .dot file to a variety of formats such as PDF or PNG using\n",
    "the dot command-line tool from the graphviz package. 1 This command line converts\n",
    "the .dot file to a .png image file:\n",
    "        $ dot -Tpng iris_tree.dot -o iris_tree.png"
   ]
  },
  {
   "cell_type": "code",
   "execution_count": 15,
   "id": "bfb927b9",
   "metadata": {},
   "outputs": [
    {
     "data": {
      "text/plain": [
       "array([[0.        , 0.90740741, 0.09259259]])"
      ]
     },
     "execution_count": 15,
     "metadata": {},
     "output_type": "execute_result"
    }
   ],
   "source": [
    "tree_clf.predict_proba([[5, 1.5]]) # to Predict The Probability"
   ]
  },
  {
   "cell_type": "code",
   "execution_count": 21,
   "id": "2d72fa7d",
   "metadata": {},
   "outputs": [
    {
     "data": {
      "text/plain": [
       "array([1])"
      ]
     },
     "execution_count": 21,
     "metadata": {},
     "output_type": "execute_result"
    }
   ],
   "source": [
    "tree_clf.predict([[5 , 1.5]])"
   ]
  },
  {
   "cell_type": "code",
   "execution_count": 22,
   "id": "29b5e6d1",
   "metadata": {},
   "outputs": [
    {
     "name": "stdout",
     "output_type": "stream",
     "text": [
      "['setosa' 'versicolor' 'virginica']\n"
     ]
    },
    {
     "data": {
      "text/plain": [
       "'versicolor'"
      ]
     },
     "execution_count": 22,
     "metadata": {},
     "output_type": "execute_result"
    }
   ],
   "source": [
    "print(iris.target_names)\n",
    "iris.target_names[1]"
   ]
  },
  {
   "cell_type": "markdown",
   "id": "09ebcf6f",
   "metadata": {},
   "source": [
    "Decision Tree stops Subsetting the Dataset once it reaches the maximum depth (defined by the max_depth hyperparameter), or if it cannot find a split that will reduce impurity. A few other hyperparameters control additional stopping conditions\n",
    "( min_samples_split , min_samples_leaf , min_weight_fraction_leaf , and max_leaf_nodes )."
   ]
  },
  {
   "cell_type": "markdown",
   "id": "f8008362",
   "metadata": {},
   "source": [
    "max_depth hyperparameter (the default value is None , which means unlimited).\n",
    "Reducing max_depth will regularize the model and thus reduce the risk of overfitting.\n",
    "The DecisionTreeClassifier class has a few other parameters that similarly restrict\n",
    "the shape of the Decision Tree: min_samples_split (the minimum number of sam‐\n",
    "ples a node must have before it can be split), min_samples_leaf (the minimum num‐\n",
    "ber of samples a leaf node must have), min_weight_fraction_leaf (same as\n",
    "min_samples_leaf but expressed as a fraction of the total number of weighted instances), max_leaf_nodes (maximum number of leaf nodes), and max_features\n",
    "(maximum number of features that are evaluated for splitting at each node). Increas‐\n",
    "ing min_* hyperparameters or reducing max_* hyperparameters will regularize the\n",
    "model."
   ]
  },
  {
   "cell_type": "code",
   "execution_count": null,
   "id": "3140bf7c",
   "metadata": {},
   "outputs": [],
   "source": []
  }
 ],
 "metadata": {
  "kernelspec": {
   "display_name": "Python 3",
   "language": "python",
   "name": "python3"
  },
  "language_info": {
   "codemirror_mode": {
    "name": "ipython",
    "version": 3
   },
   "file_extension": ".py",
   "mimetype": "text/x-python",
   "name": "python",
   "nbconvert_exporter": "python",
   "pygments_lexer": "ipython3",
   "version": "3.8.8"
  }
 },
 "nbformat": 4,
 "nbformat_minor": 5
}
